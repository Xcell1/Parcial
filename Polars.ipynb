{
 "cells": [
  {
   "attachments": {},
   "cell_type": "markdown",
   "id": "29e6adae",
   "metadata": {},
   "source": [
    "# Paquete Polars \n",
    "\n",
    "## Introdución\n",
    "\n",
    "#### Polars es una librería que permite trabajar con datos.\n",
    "\n",
    "### <ul>Se caracteriza por:</ul>\n",
    "<li>Ser open-source</li>\n",
    "<li>Trabajar con distintos tipos y formatos (Json, SQL, Data Frames, csv)</li>\n",
    "<li>Ser compatible con distintas librerías (numpy, plotly, etc)</li>\n",
    "<li>Trabajar usando varios cores (núcleos) de un procesador</li>\n",
    "<li>Ser estético (pero con cuadros no indexados)</li>"
   ]
  },
  {
   "cell_type": "code",
   "execution_count": 1,
   "id": "90b6b110",
   "metadata": {},
   "outputs": [],
   "source": [
    "import pandas as pd\n",
    "import polars as pl\n",
    "url = \"https://raw.githubusercontent.com/JoaquinAmatRodrigo/Estadistica-machine-learning-python/master/data/sample_epd_201412.csv\""
   ]
  },
  {
   "cell_type": "code",
   "execution_count": 2,
   "id": "45ae062b",
   "metadata": {},
   "outputs": [
    {
     "name": "stdout",
     "output_type": "stream",
     "text": [
      "CPU times: total: 375 ms\n",
      "Wall time: 3.41 s\n"
     ]
    }
   ],
   "source": [
    "%%time\n",
    "df_pd = pd.read_csv(url, sep=\";\")"
   ]
  },
  {
   "cell_type": "code",
   "execution_count": 3,
   "id": "a12847ab",
   "metadata": {},
   "outputs": [
    {
     "name": "stdout",
     "output_type": "stream",
     "text": [
      "CPU times: total: 266 ms\n",
      "Wall time: 2.24 s\n"
     ]
    }
   ],
   "source": [
    "%%time\n",
    "df = pl.read_csv(url, separator=\";\")"
   ]
  },
  {
   "attachments": {},
   "cell_type": "markdown",
   "id": "2cad4c97",
   "metadata": {},
   "source": []
  }
 ],
 "metadata": {
  "kernelspec": {
   "display_name": "Python 3 (ipykernel)",
   "language": "python",
   "name": "python3"
  },
  "language_info": {
   "codemirror_mode": {
    "name": "ipython",
    "version": 3
   },
   "file_extension": ".py",
   "mimetype": "text/x-python",
   "name": "python",
   "nbconvert_exporter": "python",
   "pygments_lexer": "ipython3",
   "version": "3.10.4"
  }
 },
 "nbformat": 4,
 "nbformat_minor": 5
}
