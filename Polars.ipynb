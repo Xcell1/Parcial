{
 "cells": [
  {
   "cell_type": "markdown",
   "id": "29e6adae",
   "metadata": {},
   "source": [
    "# Paquete Polars \n",
    "\n",
    "## Introdución\n",
    "\n",
    "#### Polars es una librería que permite trabajar con datos.\n",
    "\n",
    "### <ul>Se caracteriza por:</ul>\n",
    "<li>Ser open-source</li>\n",
    "<li>Trabajar con distintos tipos y formatos (Json, SQL, Data Frames, csv)</li>\n",
    "<li>Ser compatible con distintas librerías (numpy, plotly, etc)</li>\n",
    "<li>Trabajar usando varios cores (núcleos) de un procesador</li>\n",
    "<li>Ser estético (pero con cuadros no indexados)</li>"
   ]
  },
  {
   "cell_type": "code",
   "execution_count": 7,
   "id": "5b9a59d9",
   "metadata": {},
   "outputs": [
    {
     "ename": "ModuleNotFoundError",
     "evalue": "No module named 'polars'",
     "output_type": "error",
     "traceback": [
      "\u001b[1;31m---------------------------------------------------------------------------\u001b[0m",
      "\u001b[1;31mModuleNotFoundError\u001b[0m                       Traceback (most recent call last)",
      "Cell \u001b[1;32mIn[7], line 2\u001b[0m\n\u001b[0;32m      1\u001b[0m \u001b[38;5;28;01mimport\u001b[39;00m \u001b[38;5;21;01mpandas\u001b[39;00m \u001b[38;5;28;01mas\u001b[39;00m \u001b[38;5;21;01mpd\u001b[39;00m\n\u001b[1;32m----> 2\u001b[0m \u001b[38;5;28;01mimport\u001b[39;00m \u001b[38;5;21;01mpolars\u001b[39;00m \u001b[38;5;28;01mas\u001b[39;00m \u001b[38;5;21;01mpl\u001b[39;00m\n\u001b[0;32m      3\u001b[0m url \u001b[38;5;241m=\u001b[39m \u001b[38;5;124m\"\u001b[39m\u001b[38;5;124mhttps://raw.githubusercontent.com/JoaquinAmatRodrigo/Estadistica-machine-learning-python/master/data/sample_epd_201412.csv\u001b[39m\u001b[38;5;124m\"\u001b[39m\n",
      "\u001b[1;31mModuleNotFoundError\u001b[0m: No module named 'polars'"
     ]
    }
   ],
   "source": [
    "import pandas as pd\n",
    "import polars as pl\n",
    "url = \"https://raw.githubusercontent.com/JoaquinAmatRodrigo/Estadistica-machine-learning-python/master/data/sample_epd_201412.csv\""
   ]
  },
  {
   "cell_type": "code",
   "execution_count": 4,
   "id": "4379d196",
   "metadata": {},
   "outputs": [
    {
     "name": "stdout",
     "output_type": "stream",
     "text": [
      "CPU times: total: 312 ms\n",
      "Wall time: 2.73 s\n"
     ]
    }
   ],
   "source": [
    "%%time\n",
    "df_pd = pd.read_csv(url, sep=\";\")"
   ]
  },
  {
   "cell_type": "code",
   "execution_count": null,
   "id": "1813efba",
   "metadata": {},
   "outputs": [],
   "source": [
    "%%time\n",
    "df = pl.read_csv(url, separator=\";\")"
   ]
  },
  {
   "cell_type": "markdown",
   "id": "c72c7596",
   "metadata": {},
   "source": []
  }
 ],
 "metadata": {
  "kernelspec": {
   "display_name": "Python 3 (ipykernel)",
   "language": "python",
   "name": "python3"
  },
  "language_info": {
   "codemirror_mode": {
    "name": "ipython",
    "version": 3
   },
   "file_extension": ".py",
   "mimetype": "text/x-python",
   "name": "python",
   "nbconvert_exporter": "python",
   "pygments_lexer": "ipython3",
   "version": "3.10.9"
  }
 },
 "nbformat": 4,
 "nbformat_minor": 5
}
