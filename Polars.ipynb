{
 "cells": [
  {
   "attachments": {},
   "cell_type": "markdown",
   "id": "29e6adae",
   "metadata": {},
   "source": [
    "# Paquete Polars \n",
    "\n",
    "## Introdución\n",
    "\n",
    "#### Polars es una librería que permite trabajar con datos.\n",
    "\n",
    "### <ul>Se caracteriza por:</ul>\n",
    "<li>Ser open-source</li>\n",
    "<li>Funcionar con lenguaje Rust</li>\n",
    "<li>Trabajar con distintos tipos y formatos (Json, SQL, Data Frames, csv)</li>\n",
    "<li>Ser compatible con distintas librerías (numpy, plotly, etc)</li>\n",
    "<li>Trabajar usando varios cores (núcleos) de un procesador</li>\n",
    "<li>Ser estético (pero con cuadros no indexados)</li>\n",
    "<br>\n",
    "Entonces podemos hablar de una librería estética, práctica y rápida.\n",
    "<br>\n",
    "<img src=\"https://media.licdn.com/dms/image/D5612AQGgsf2IYeDHQQ/article-inline_image-shrink_1500_2232/0/1680839922335?e=1689206400&v=beta&t=-d4n7noPgLjq2Hq9ZZ-3BlGwcJi8uvi55-eoUXUBR3A\" width = 500>"
   ]
  },
  {
   "attachments": {},
   "cell_type": "markdown",
   "id": "2cad4c97",
   "metadata": {},
   "source": [
    "## Práctica\n",
    "<h4>\n",
    "    Trabajaremos con un archivo de prueba donde usaremos unas de las funciones más esenciales de esta librería. \n",
    "</h4>\n",
    "\n",
    "<h3>\n",
    "    1. Lectura y observación\n",
    "</h3>\n",
    "\n",
    "Polars tiene la capacidad de leer muchos formatos como excel, json, sql, csv, etc, en este caso usaremos un archivo .csv con el cual también testearemos la velocidad de esta librería."
   ]
  },
  {
   "cell_type": "code",
   "execution_count": 63,
   "id": "372e4dfc",
   "metadata": {},
   "outputs": [],
   "source": [
    "import pandas as pd\n",
    "import polars as pl\n",
    "url = \"https://raw.githubusercontent.com/JoaquinAmatRodrigo/Estadistica-machine-learning-python/master/data/sample_epd_201412.csv\""
   ]
  },
  {
   "cell_type": "code",
   "execution_count": 64,
   "id": "31e06baf",
   "metadata": {},
   "outputs": [
    {
     "name": "stdout",
     "output_type": "stream",
     "text": [
      "CPU times: total: 406 ms\n",
      "Wall time: 3.48 s\n"
     ]
    }
   ],
   "source": [
    "%%time\n",
    "df_pd = pd.read_csv(url, sep=\";\")"
   ]
  },
  {
   "cell_type": "code",
   "execution_count": 65,
   "id": "a03d5d92",
   "metadata": {},
   "outputs": [
    {
     "name": "stdout",
     "output_type": "stream",
     "text": [
      "CPU times: total: 234 ms\n",
      "Wall time: 2.63 s\n"
     ]
    }
   ],
   "source": [
    "%%time\n",
    "df = pl.read_csv(url, separator=\";\")"
   ]
  },
  {
   "attachments": {},
   "cell_type": "markdown",
   "id": "c6563af7",
   "metadata": {},
   "source": [
    "<h3>\n",
    "    1. Lectura\n",
    "</h3>\n",
    "\n",
    "Polars tiene la capacidad de leer muchos formatos como excel, json, sql, csv, etc, en este caso usaremos un archivo csv."
   ]
  },
  {
   "cell_type": "code",
   "execution_count": 25,
   "id": "029d6606",
   "metadata": {},
   "outputs": [
    {
     "name": "stdout",
     "output_type": "stream",
     "text": [
      "shape: (50_000, 26)\n",
      "┌──────────┬────────────┬────────────┬────────────┬───┬──────────┬───────┬───────────┬────────────┐\n",
      "│ YEAR_MON ┆ REGIONAL_O ┆ REGIONAL_O ┆ AREA_TEAM_ ┆ … ┆ ADQUSAGE ┆ NIC   ┆ ACTUAL_CO ┆ UNIDENTIFI │\n",
      "│ TH       ┆ FFICE_NAME ┆ FFICE_CODE ┆ NAME       ┆   ┆ ---      ┆ ---   ┆ ST        ┆ ED         │\n",
      "│ ---      ┆ ---        ┆ ---        ┆ ---        ┆   ┆ f64      ┆ f64   ┆ ---       ┆ ---        │\n",
      "│ i64      ┆ str        ┆ str        ┆ str        ┆   ┆          ┆       ┆ f64       ┆ str        │\n",
      "╞══════════╪════════════╪════════════╪════════════╪═══╪══════════╪═══════╪═══════════╪════════════╡\n",
      "│ 201412   ┆ NORTH OF   ┆ Y54        ┆ GREATER    ┆ … ┆ 3.0      ┆ 4.5   ┆ 4.16564   ┆ N          │\n",
      "│          ┆ ENGLAND    ┆            ┆ MANCHESTER ┆   ┆          ┆       ┆           ┆            │\n",
      "│          ┆            ┆            ┆ AREA       ┆   ┆          ┆       ┆           ┆            │\n",
      "│ 201412   ┆ NORTH OF   ┆ Y54        ┆ WEST       ┆ … ┆ 0.0      ┆ 8.8   ┆ 8.1839    ┆ N          │\n",
      "│          ┆ ENGLAND    ┆            ┆ YORKSHIRE  ┆   ┆          ┆       ┆           ┆            │\n",
      "│          ┆            ┆            ┆ AREA       ┆   ┆          ┆       ┆           ┆            │\n",
      "│ 201412   ┆ SOUTH OF   ┆ Y57        ┆ SURREY AND ┆ … ┆ 0.0      ┆ 8.97  ┆ 8.3532    ┆ N          │\n",
      "│          ┆ ENGLAND    ┆            ┆ SUSSEX     ┆   ┆          ┆       ┆           ┆            │\n",
      "│          ┆            ┆            ┆ AREA       ┆   ┆          ┆       ┆           ┆            │\n",
      "│ 201412   ┆ LONDON     ┆ Y56        ┆ NORTH EAST ┆ … ┆ 0.0      ┆ 14.0  ┆ 12.9708   ┆ N          │\n",
      "│          ┆            ┆            ┆ LONDON     ┆   ┆          ┆       ┆           ┆            │\n",
      "│          ┆            ┆            ┆ AREA       ┆   ┆          ┆       ┆           ┆            │\n",
      "│ …        ┆ …          ┆ …          ┆ …          ┆ … ┆ …        ┆ …     ┆ …         ┆ …          │\n",
      "│ 201412   ┆ LONDON     ┆ Y56        ┆ NORTH WEST ┆ … ┆ 24.0     ┆ 26.34 ┆ 24.33512  ┆ N          │\n",
      "│          ┆            ┆            ┆ LONDON     ┆   ┆          ┆       ┆           ┆            │\n",
      "│          ┆            ┆            ┆ AREA       ┆   ┆          ┆       ┆           ┆            │\n",
      "│ 201412   ┆ SOUTH OF   ┆ Y57        ┆ WESSEX     ┆ … ┆ 60.0     ┆ 58.64 ┆ 54.13377  ┆ N          │\n",
      "│          ┆ ENGLAND    ┆            ┆ AREA       ┆   ┆          ┆       ┆           ┆            │\n",
      "│ 201412   ┆ NORTH OF   ┆ Y54        ┆ GREATER    ┆ … ┆ 0.0      ┆ 1.02  ┆ 1.0538    ┆ N          │\n",
      "│          ┆ ENGLAND    ┆            ┆ MANCHESTER ┆   ┆          ┆       ┆           ┆            │\n",
      "│          ┆            ┆            ┆ AREA       ┆   ┆          ┆       ┆           ┆            │\n",
      "│ 201412   ┆ SOUTH OF   ┆ Y57        ┆ WESSEX     ┆ … ┆ 0.0      ┆ 12.9  ┆ 12.13076  ┆ N          │\n",
      "│          ┆ ENGLAND    ┆            ┆ AREA       ┆   ┆          ┆       ┆           ┆            │\n",
      "└──────────┴────────────┴────────────┴────────────┴───┴──────────┴───────┴───────────┴────────────┘\n",
      "<class 'polars.dataframe.frame.DataFrame'>\n"
     ]
    }
   ],
   "source": [
    "df = pl.read_csv(url, separator=\";\")\n",
    "print(df)\n",
    "print(type(df))"
   ]
  },
  {
   "attachments": {},
   "cell_type": "markdown",
   "id": "9bdb87e7",
   "metadata": {},
   "source": [
    "Si deseamos ver las características de tu DataFrame podemos usar:"
   ]
  },
  {
   "cell_type": "code",
   "execution_count": 27,
   "id": "fd5663e6",
   "metadata": {},
   "outputs": [
    {
     "name": "stdout",
     "output_type": "stream",
     "text": [
      "(50000, 26)\n"
     ]
    },
    {
     "data": {
      "text/html": [
       "<div><style>\n",
       ".dataframe > thead > tr > th,\n",
       ".dataframe > tbody > tr > td {\n",
       "  text-align: right;\n",
       "}\n",
       "</style>\n",
       "<small>shape: (9, 27)</small><table border=\"1\" class=\"dataframe\"><thead><tr><th>describe</th><th>YEAR_MONTH</th><th>REGIONAL_OFFICE_NAME</th><th>REGIONAL_OFFICE_CODE</th><th>AREA_TEAM_NAME</th><th>AREA_TEAM_CODE</th><th>PCO_NAME</th><th>PCO_CODE</th><th>PRACTICE_NAME</th><th>PRACTICE_CODE</th><th>ADDRESS_1</th><th>ADDRESS_2</th><th>ADDRESS_3</th><th>ADDRESS_4</th><th>POSTCODE</th><th>BNF_CHEMICAL_SUBSTANCE</th><th>CHEMICAL_SUBSTANCE_BNF_DESCR</th><th>BNF_CODE</th><th>BNF_DESCRIPTION</th><th>BNF_CHAPTER_PLUS_CODE</th><th>QUANTITY</th><th>ITEMS</th><th>TOTAL_QUANTITY</th><th>ADQUSAGE</th><th>NIC</th><th>ACTUAL_COST</th><th>UNIDENTIFIED</th></tr><tr><td>str</td><td>f64</td><td>str</td><td>str</td><td>str</td><td>str</td><td>str</td><td>str</td><td>str</td><td>str</td><td>str</td><td>str</td><td>str</td><td>str</td><td>str</td><td>str</td><td>str</td><td>str</td><td>str</td><td>str</td><td>f64</td><td>f64</td><td>f64</td><td>f64</td><td>f64</td><td>f64</td><td>str</td></tr></thead><tbody><tr><td>&quot;count&quot;</td><td>50000.0</td><td>&quot;50000&quot;</td><td>&quot;50000&quot;</td><td>&quot;50000&quot;</td><td>&quot;50000&quot;</td><td>&quot;50000&quot;</td><td>&quot;50000&quot;</td><td>&quot;50000&quot;</td><td>&quot;50000&quot;</td><td>&quot;50000&quot;</td><td>&quot;50000&quot;</td><td>&quot;50000&quot;</td><td>&quot;50000&quot;</td><td>&quot;50000&quot;</td><td>&quot;50000&quot;</td><td>&quot;50000&quot;</td><td>&quot;50000&quot;</td><td>&quot;50000&quot;</td><td>&quot;50000&quot;</td><td>50000.0</td><td>50000.0</td><td>50000.0</td><td>50000.0</td><td>50000.0</td><td>50000.0</td><td>&quot;50000&quot;</td></tr><tr><td>&quot;null_count&quot;</td><td>0.0</td><td>&quot;0&quot;</td><td>&quot;0&quot;</td><td>&quot;0&quot;</td><td>&quot;0&quot;</td><td>&quot;0&quot;</td><td>&quot;0&quot;</td><td>&quot;0&quot;</td><td>&quot;0&quot;</td><td>&quot;24&quot;</td><td>&quot;2585&quot;</td><td>&quot;1111&quot;</td><td>&quot;7292&quot;</td><td>&quot;22&quot;</td><td>&quot;0&quot;</td><td>&quot;0&quot;</td><td>&quot;0&quot;</td><td>&quot;0&quot;</td><td>&quot;0&quot;</td><td>0.0</td><td>0.0</td><td>0.0</td><td>0.0</td><td>0.0</td><td>0.0</td><td>&quot;0&quot;</td></tr><tr><td>&quot;mean&quot;</td><td>201412.0</td><td>null</td><td>null</td><td>null</td><td>null</td><td>null</td><td>null</td><td>null</td><td>null</td><td>null</td><td>null</td><td>null</td><td>null</td><td>null</td><td>null</td><td>null</td><td>null</td><td>null</td><td>null</td><td>158.800484</td><td>5.0597</td><td>411.319542</td><td>120.445982</td><td>41.311326</td><td>38.300054</td><td>null</td></tr><tr><td>&quot;std&quot;</td><td>0.0</td><td>null</td><td>null</td><td>null</td><td>null</td><td>null</td><td>null</td><td>null</td><td>null</td><td>null</td><td>null</td><td>null</td><td>null</td><td>null</td><td>null</td><td>null</td><td>null</td><td>null</td><td>null</td><td>998.722709</td><td>16.986033</td><td>1836.927548</td><td>645.331458</td><td>112.181317</td><td>103.600127</td><td>null</td></tr><tr><td>&quot;min&quot;</td><td>201412.0</td><td>&quot;LONDON&quot;</td><td>&quot;-&quot;</td><td>&quot;ARDEN,HEREFORD…</td><td>&quot;-&quot;</td><td>&quot;ADDACTION&quot;</td><td>&quot;-&quot;</td><td>&quot;(FRACTURE CLIN…</td><td>&quot;-&quot;</td><td>&quot;-&quot;</td><td>&quot;&amp; WELLBEING,EX…</td><td>&quot;(OFF SOUTH HIL…</td><td>&quot;-&quot;</td><td>&quot;-&quot;</td><td>&quot;0101010G0&quot;</td><td>&quot;Acamprosate ca…</td><td>&quot;0101010G0AAABA…</td><td>&quot;3M Micropore S…</td><td>&quot;01: Gastro-Int…</td><td>0.5</td><td>1.0</td><td>0.5</td><td>0.0</td><td>0.01</td><td>0.06461</td><td>&quot;N&quot;</td></tr><tr><td>&quot;max&quot;</td><td>201412.0</td><td>&quot;UNIDENTIFIED&quot;</td><td>&quot;Y57&quot;</td><td>&quot;WEST YORKSHIRE…</td><td>&quot;Q70&quot;</td><td>&quot;YORK TEACHING …</td><td>&quot;RYY00&quot;</td><td>&quot;ZETLAND MEDICA…</td><td>&quot;Y04837&quot;</td><td>&quot;YPRES ROAD&quot;</td><td>&quot;ZACHARY MERTON…</td><td>&quot;YORKLEY,LYDNEY…</td><td>&quot;YORKSHIRE&quot;</td><td>&quot;YO8 9BX&quot;</td><td>&quot;2396&quot;</td><td>&quot;Zuclopenthixol…</td><td>&quot;23965609646&quot;</td><td>&quot;palmdoc iCare …</td><td>&quot;23: Stoma Appl…</td><td>45000.0</td><td>1152.0</td><td>115200.0</td><td>43007.99999</td><td>7256.56</td><td>6698.14673</td><td>&quot;Y&quot;</td></tr><tr><td>&quot;median&quot;</td><td>201412.0</td><td>null</td><td>null</td><td>null</td><td>null</td><td>null</td><td>null</td><td>null</td><td>null</td><td>null</td><td>null</td><td>null</td><td>null</td><td>null</td><td>null</td><td>null</td><td>null</td><td>null</td><td>null</td><td>56.0</td><td>2.0</td><td>84.0</td><td>9.33333</td><td>12.65</td><td>11.86299</td><td>null</td></tr><tr><td>&quot;25%&quot;</td><td>201412.0</td><td>null</td><td>null</td><td>null</td><td>null</td><td>null</td><td>null</td><td>null</td><td>null</td><td>null</td><td>null</td><td>null</td><td>null</td><td>null</td><td>null</td><td>null</td><td>null</td><td>null</td><td>null</td><td>20.0</td><td>1.0</td><td>30.0</td><td>0.0</td><td>4.98</td><td>4.71941</td><td>null</td></tr><tr><td>&quot;75%&quot;</td><td>201412.0</td><td>null</td><td>null</td><td>null</td><td>null</td><td>null</td><td>null</td><td>null</td><td>null</td><td>null</td><td>null</td><td>null</td><td>null</td><td>null</td><td>null</td><td>null</td><td>null</td><td>null</td><td>null</td><td>100.0</td><td>4.0</td><td>224.0</td><td>56.0</td><td>35.97</td><td>33.23834</td><td>null</td></tr></tbody></table></div>"
      ],
      "text/plain": [
       "shape: (9, 27)\n",
       "┌──────────┬──────────┬────────────┬────────────┬───┬──────────┬──────────┬───────────┬────────────┐\n",
       "│ describe ┆ YEAR_MON ┆ REGIONAL_O ┆ REGIONAL_O ┆ … ┆ ADQUSAGE ┆ NIC      ┆ ACTUAL_CO ┆ UNIDENTIFI │\n",
       "│ ---      ┆ TH       ┆ FFICE_NAME ┆ FFICE_CODE ┆   ┆ ---      ┆ ---      ┆ ST        ┆ ED         │\n",
       "│ str      ┆ ---      ┆ ---        ┆ ---        ┆   ┆ f64      ┆ f64      ┆ ---       ┆ ---        │\n",
       "│          ┆ f64      ┆ str        ┆ str        ┆   ┆          ┆          ┆ f64       ┆ str        │\n",
       "╞══════════╪══════════╪════════════╪════════════╪═══╪══════════╪══════════╪═══════════╪════════════╡\n",
       "│ count    ┆ 50000.0  ┆ 50000      ┆ 50000      ┆ … ┆ 50000.0  ┆ 50000.0  ┆ 50000.0   ┆ 50000      │\n",
       "│ null_cou ┆ 0.0      ┆ 0          ┆ 0          ┆ … ┆ 0.0      ┆ 0.0      ┆ 0.0       ┆ 0          │\n",
       "│ nt       ┆          ┆            ┆            ┆   ┆          ┆          ┆           ┆            │\n",
       "│ mean     ┆ 201412.0 ┆ null       ┆ null       ┆ … ┆ 120.4459 ┆ 41.31132 ┆ 38.300054 ┆ null       │\n",
       "│          ┆          ┆            ┆            ┆   ┆ 82       ┆ 6        ┆           ┆            │\n",
       "│ std      ┆ 0.0      ┆ null       ┆ null       ┆ … ┆ 645.3314 ┆ 112.1813 ┆ 103.60012 ┆ null       │\n",
       "│          ┆          ┆            ┆            ┆   ┆ 58       ┆ 17       ┆ 7         ┆            │\n",
       "│ min      ┆ 201412.0 ┆ LONDON     ┆ -          ┆ … ┆ 0.0      ┆ 0.01     ┆ 0.06461   ┆ N          │\n",
       "│ max      ┆ 201412.0 ┆ UNIDENTIFI ┆ Y57        ┆ … ┆ 43007.99 ┆ 7256.56  ┆ 6698.1467 ┆ Y          │\n",
       "│          ┆          ┆ ED         ┆            ┆   ┆ 999      ┆          ┆ 3         ┆            │\n",
       "│ median   ┆ 201412.0 ┆ null       ┆ null       ┆ … ┆ 9.33333  ┆ 12.65    ┆ 11.86299  ┆ null       │\n",
       "│ 25%      ┆ 201412.0 ┆ null       ┆ null       ┆ … ┆ 0.0      ┆ 4.98     ┆ 4.71941   ┆ null       │\n",
       "│ 75%      ┆ 201412.0 ┆ null       ┆ null       ┆ … ┆ 56.0     ┆ 35.97    ┆ 33.23834  ┆ null       │\n",
       "└──────────┴──────────┴────────────┴────────────┴───┴──────────┴──────────┴───────────┴────────────┘"
      ]
     },
     "execution_count": 27,
     "metadata": {},
     "output_type": "execute_result"
    }
   ],
   "source": [
    "print(df.shape) # Para ver el número de filas y columnas\n",
    "df.describe() #Para ver una descripción completa de tu DataFrame\n"
   ]
  },
  {
   "attachments": {},
   "cell_type": "markdown",
   "id": "48c23cb6",
   "metadata": {},
   "source": [
    "<h3>\n",
    "    2. Limpieza\n",
    "</h3>\n",
    "\n",
    "<h4>\n",
    "    Para lograr una óptima distribución de datos.\n",
    "</h4>\n",
    "\n",
    "Como todo dataframe podemos dirigirnos hacia coordenadas específicas.\n",
    "\n",
    "```python\n",
    "    df([0,0])\n",
    "```\n",
    "Renombrar estas.\n",
    "```python\n",
    "    df = df.rename({\"describe\": \"Describe\"})\n",
    "```\n",
    "\n",
    "Hacer selección y exclusión de filas y/o columnas.\n",
    "```python\n",
    "    df = df.select([pl.col[\"YEAR_MONTH\"]])\n",
    "\n",
    "    print(df.select(\n",
    "        [\n",
    "            pl.exclude('YEAR_MONTH', 'NIC')\n",
    "        ]     \n",
    "    ))\n",
    "```   \n",
    "    Si necesitas operar una fila deberás usar la función select, mencionar una columna y agregarle la operación respectiva\n",
    "```python\n",
    "        df.select([pl.all(),\n",
    "\t    pl.col(\"ACTUAL_COST\").sum())\n",
    "```\n",
    "\n",
    "Ordenar columnas de mayor a menor.\n",
    "```python\n",
    "    print(df.sort(by = \"NIC\", descending=True).head())\n",
    "```\n",
    "Filtrar valores\n",
    "```python\n",
    "    print(df.filter(\n",
    "        (pl.col('NIC')<= 20) & (pl.col('ADQUSAJE') <= 100))\n",
    "```\n",
    "\n",
    "Y eliminar datos (como contar sus valores NaN)\n",
    "```python\n",
    "    df.drop([\"YEAR_MONTH\"].head()) #data frame nuevo\n",
    "    df.drop_in_place([\"YEAR_MONTH\"].head()) #afecta al dataframe existente\n",
    "```"
   ]
  },
  {
   "attachments": {},
   "cell_type": "markdown",
   "id": "3b2cb8dd",
   "metadata": {},
   "source": [
    "<h3>\n",
    "    3. Creación\n",
    "</h3>\n",
    "\n",
    "Con alias podemos entonces crear una nueva columna con tus especificaciones, TEN EN CUENTA QUE ESTO CREARÁ UN DATAFRAME NUEVO Y SI QUIERES QUE SE MANTENGA EN EL ORIGINAL LO TENDRÁS QUE ESPECIFICAR.\n",
    "\n",
    "Más adelante veremos su uso práctico."
   ]
  },
  {
   "attachments": {},
   "cell_type": "markdown",
   "id": "366117ff",
   "metadata": {},
   "source": [
    "<h3>\n",
    "    4. Trabajar con otras librerías\n",
    "</h3>\n",
    "Polars se adapta a trabajar con distintos paquetes como numpy y plotly que a medida que usen este paquete verán más adelante.\n",
    "\n",
    "<img src=\"https://media.licdn.com/dms/image/D5612AQEa9t3yQ_rpKw/article-inline_image-shrink_1500_2232/0/1680839639281?e=1689206400&v=beta&t=j_Oq7i3qXNGv5GsFUyTCxcUjK6sCGbgwpqUCIrhvMDg\" width = 850>\n",
    "<img src=\"https://media.licdn.com/dms/image/D5612AQFADi9YmaHb2g/article-inline_image-shrink_1500_2232/0/1680839730807?e=1689206400&v=beta&t=xPeFdoFnL8ni0lzH3pPyea0NyBE1H_Ju_kzX8QQF1ik\" width = 850>\n",
    "\n",
    "Entonces con todo esto dicho, procederemos entonces a hacer un ejemplo más completo con el archivo que tenemos."
   ]
  },
  {
   "cell_type": "code",
   "execution_count": 68,
   "id": "dd9987fd",
   "metadata": {},
   "outputs": [
    {
     "name": "stdout",
     "output_type": "stream",
     "text": [
      "shape: (5, 27)\n",
      "┌──────────┬────────────┬────────────┬────────────┬───┬───────┬───────────┬────────────┬────────────┐\n",
      "│ YEAR_MON ┆ REGIONAL_O ┆ REGIONAL_O ┆ AREA_TEAM_ ┆ … ┆ NIC   ┆ ACTUAL_CO ┆ UNIDENTIFI ┆ ACTUAL_COS │\n",
      "│ TH       ┆ FFICE_NAME ┆ FFICE_CODE ┆ NAME       ┆   ┆ ---   ┆ ST        ┆ ED         ┆ T_SUM      │\n",
      "│ ---      ┆ ---        ┆ ---        ┆ ---        ┆   ┆ f64   ┆ ---       ┆ ---        ┆ ---        │\n",
      "│ i64      ┆ str        ┆ str        ┆ str        ┆   ┆       ┆ f64       ┆ str        ┆ f64        │\n",
      "╞══════════╪════════════╪════════════╪════════════╪═══╪═══════╪═══════════╪════════════╪════════════╡\n",
      "│ 201412   ┆ NORTH OF   ┆ Y54        ┆ GREATER    ┆ … ┆ 4.5   ┆ 4.16564   ┆ N          ┆ 1.9150e6   │\n",
      "│          ┆ ENGLAND    ┆            ┆ MANCHESTER ┆   ┆       ┆           ┆            ┆            │\n",
      "│          ┆            ┆            ┆ AREA       ┆   ┆       ┆           ┆            ┆            │\n",
      "│ 201412   ┆ NORTH OF   ┆ Y54        ┆ WEST       ┆ … ┆ 8.8   ┆ 8.1839    ┆ N          ┆ 1.9150e6   │\n",
      "│          ┆ ENGLAND    ┆            ┆ YORKSHIRE  ┆   ┆       ┆           ┆            ┆            │\n",
      "│          ┆            ┆            ┆ AREA       ┆   ┆       ┆           ┆            ┆            │\n",
      "│ 201412   ┆ SOUTH OF   ┆ Y57        ┆ SURREY AND ┆ … ┆ 8.97  ┆ 8.3532    ┆ N          ┆ 1.9150e6   │\n",
      "│          ┆ ENGLAND    ┆            ┆ SUSSEX     ┆   ┆       ┆           ┆            ┆            │\n",
      "│          ┆            ┆            ┆ AREA       ┆   ┆       ┆           ┆            ┆            │\n",
      "│ 201412   ┆ LONDON     ┆ Y56        ┆ NORTH EAST ┆ … ┆ 14.0  ┆ 12.9708   ┆ N          ┆ 1.9150e6   │\n",
      "│          ┆            ┆            ┆ LONDON     ┆   ┆       ┆           ┆            ┆            │\n",
      "│          ┆            ┆            ┆ AREA       ┆   ┆       ┆           ┆            ┆            │\n",
      "│ 201412   ┆ SOUTH OF   ┆ Y57        ┆ BRISTOL, N ┆ … ┆ 46.86 ┆ 51.2295   ┆ N          ┆ 1.9150e6   │\n",
      "│          ┆ ENGLAND    ┆            ┆ SOM, SOM & ┆   ┆       ┆           ┆            ┆            │\n",
      "│          ┆            ┆            ┆ S GLOS     ┆   ┆       ┆           ┆            ┆            │\n",
      "│          ┆            ┆            ┆ ARE…       ┆   ┆       ┆           ┆            ┆            │\n",
      "└──────────┴────────────┴────────────┴────────────┴───┴───────┴───────────┴────────────┴────────────┘\n"
     ]
    }
   ],
   "source": [
    "n = df.select([pl.all(),\n",
    "\tpl.col(\"ACTUAL_COST\").sum().alias(\"ACTUAL_COST_SUM\")]).head()\n",
    "print(n)"
   ]
  },
  {
   "attachments": {},
   "cell_type": "markdown",
   "id": "b6270f62",
   "metadata": {},
   "source": [
    "NOTA: Si queremos mostrar todas las columnas podemos ahorrarnos el select con with_columns"
   ]
  },
  {
   "cell_type": "code",
   "execution_count": 77,
   "id": "edbb108b",
   "metadata": {},
   "outputs": [
    {
     "name": "stdout",
     "output_type": "stream",
     "text": [
      "shape: (5, 27)\n",
      "┌──────────┬────────────┬────────────┬────────────┬───┬───────┬───────────┬────────────┬────────────┐\n",
      "│ YEAR_MON ┆ REGIONAL_O ┆ REGIONAL_O ┆ AREA_TEAM_ ┆ … ┆ NIC   ┆ ACTUAL_CO ┆ UNIDENTIFI ┆ ACTUAL_COS │\n",
      "│ TH       ┆ FFICE_NAME ┆ FFICE_CODE ┆ NAME       ┆   ┆ ---   ┆ ST        ┆ ED         ┆ T_SUM      │\n",
      "│ ---      ┆ ---        ┆ ---        ┆ ---        ┆   ┆ f64   ┆ ---       ┆ ---        ┆ ---        │\n",
      "│ i64      ┆ str        ┆ str        ┆ str        ┆   ┆       ┆ f64       ┆ str        ┆ f64        │\n",
      "╞══════════╪════════════╪════════════╪════════════╪═══╪═══════╪═══════════╪════════════╪════════════╡\n",
      "│ 201412   ┆ NORTH OF   ┆ Y54        ┆ GREATER    ┆ … ┆ 4.5   ┆ 4.16564   ┆ N          ┆ 1.9150e6   │\n",
      "│          ┆ ENGLAND    ┆            ┆ MANCHESTER ┆   ┆       ┆           ┆            ┆            │\n",
      "│          ┆            ┆            ┆ AREA       ┆   ┆       ┆           ┆            ┆            │\n",
      "│ 201412   ┆ NORTH OF   ┆ Y54        ┆ WEST       ┆ … ┆ 8.8   ┆ 8.1839    ┆ N          ┆ 1.9150e6   │\n",
      "│          ┆ ENGLAND    ┆            ┆ YORKSHIRE  ┆   ┆       ┆           ┆            ┆            │\n",
      "│          ┆            ┆            ┆ AREA       ┆   ┆       ┆           ┆            ┆            │\n",
      "│ 201412   ┆ SOUTH OF   ┆ Y57        ┆ SURREY AND ┆ … ┆ 8.97  ┆ 8.3532    ┆ N          ┆ 1.9150e6   │\n",
      "│          ┆ ENGLAND    ┆            ┆ SUSSEX     ┆   ┆       ┆           ┆            ┆            │\n",
      "│          ┆            ┆            ┆ AREA       ┆   ┆       ┆           ┆            ┆            │\n",
      "│ 201412   ┆ LONDON     ┆ Y56        ┆ NORTH EAST ┆ … ┆ 14.0  ┆ 12.9708   ┆ N          ┆ 1.9150e6   │\n",
      "│          ┆            ┆            ┆ LONDON     ┆   ┆       ┆           ┆            ┆            │\n",
      "│          ┆            ┆            ┆ AREA       ┆   ┆       ┆           ┆            ┆            │\n",
      "│ 201412   ┆ SOUTH OF   ┆ Y57        ┆ BRISTOL, N ┆ … ┆ 46.86 ┆ 51.2295   ┆ N          ┆ 1.9150e6   │\n",
      "│          ┆ ENGLAND    ┆            ┆ SOM, SOM & ┆   ┆       ┆           ┆            ┆            │\n",
      "│          ┆            ┆            ┆ S GLOS     ┆   ┆       ┆           ┆            ┆            │\n",
      "│          ┆            ┆            ┆ ARE…       ┆   ┆       ┆           ┆            ┆            │\n",
      "└──────────┴────────────┴────────────┴────────────┴───┴───────┴───────────┴────────────┴────────────┘\n"
     ]
    }
   ],
   "source": [
    "n = df.with_columns(\n",
    "\t[\n",
    "\t\tpl.sum(\"ACTUAL_COST\").alias(\"ACTUAL_COST_SUM\")\n",
    "\t]).head()\n",
    "print(n)"
   ]
  },
  {
   "attachments": {},
   "cell_type": "markdown",
   "id": "5d2b810b",
   "metadata": {},
   "source": [
    "<h3>\n",
    "    Conclusiones\n",
    "</h3>\n",
    "Polars es una librería que sirve para el trabajo con datos, puede mostrarse como un paquete no tan reconocido; sin embargo, eso no significa que las funciones que ofrezca sean pocas pues cada vez se está demostrando que las capacidades de esta librería son incluso mejores a las librerías tradicionales. Aquí se mostró una breve explicación sobre cómo enteder y trabajar con Polars, espero que con esto ya puedas empezar a practicar con este paquete.\n",
    "\n",
    "<img src=\"https://media.tenor.com/Us7zpL-oxHoAAAAC/gato-baile-jajalol.gif\">\n",
    "\n",
    "\n",
    "<ul><h3>Bibliografía:</h3></ul>\n",
    "<li><a href=https://towardsdatascience.com/speed-up-your-pandas-workflow-by-changing-a-single-line-of-code-11dfd85efcfb>Speed-up your Pandas Workflow by changing a single line of code</a></li>\n",
    "<li><a href=https://www.linkedin.com/pulse/understanding-capabilities-polars-python-sumon-dey>Understanding the capabilities of Polars Python implementation</a></li>\n",
    "<li><a href=\"https://www.jmgaguilera.com/rust_facil/04.html\">Rust en espaniol facil</a></li>\n",
    "<li><a href=\"https://www.youtube.com/watch?v=3RM3pWw2iRQ\">Manipulación de Datos con #Polars en #python.</a></li>\n",
    "<li><a href=\"https://www.youtube.com/shorts/vO8sAOrPNTw\">Polars vs Pandas #shorts</a></li>"
   ]
  }
 ],
 "metadata": {
  "kernelspec": {
   "display_name": "Python 3 (ipykernel)",
   "language": "python",
   "name": "python3"
  },
  "language_info": {
   "codemirror_mode": {
    "name": "ipython",
    "version": 3
   },
   "file_extension": ".py",
   "mimetype": "text/x-python",
   "name": "python",
   "nbconvert_exporter": "python",
   "pygments_lexer": "ipython3",
   "version": "3.10.4"
  }
 },
 "nbformat": 4,
 "nbformat_minor": 5
}
